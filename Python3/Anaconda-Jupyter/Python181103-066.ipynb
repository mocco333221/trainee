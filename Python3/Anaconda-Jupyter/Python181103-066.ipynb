{
 "cells": [
  {
   "cell_type": "markdown",
   "metadata": {},
   "source": [
    "题目：输入3个数a,b,c，按大小顺序输出。　　　\n",
    "\n",
    "程序分析：无。\n",
    "\n",
    "程序源代码："
   ]
  },
  {
   "cell_type": "code",
   "execution_count": 11,
   "metadata": {},
   "outputs": [
    {
     "name": "stdout",
     "output_type": "stream",
     "text": [
      "n1 = :\n",
      "123\n",
      "n2 = :\n",
      "456\n",
      "n3 = :\n",
      "789\n",
      "123 456 789\n"
     ]
    }
   ],
   "source": [
    "#!/usr/bin/python\n",
    "# -*- coding: UTF-8 -*-\n",
    " \n",
    "if __name__ == '__main__':\n",
    "    n1 = int(input('n1 = :\\n'))\n",
    "    n2 = int(input('n2 = :\\n'))\n",
    "    n3 = int(input('n3 = :\\n'))\n",
    " \n",
    "    def swap(p1,p2):\n",
    "        return p2,p1\n",
    " \n",
    "    if n1 > n2 : n1,n2 = swap(n1,n2)\n",
    "    if n1 > n3 : n1,n3 = swap(n1,n3)\n",
    "    if n2 > n3 : n2,n3 = swap(n2,n3)\n",
    " \n",
    "    print (n1,n2,n3)"
   ]
  },
  {
   "cell_type": "markdown",
   "metadata": {},
   "source": [
    "* n1,n2,n3已经在上面说过了是int型，不用输出的时候再写了，除非要强制类型转换"
   ]
  },
  {
   "cell_type": "markdown",
   "metadata": {},
   "source": [
    "* python3舍弃了print后面直接加输出内容，改成了要加小括号输出内容。"
   ]
  },
  {
   "cell_type": "code",
   "execution_count": null,
   "metadata": {},
   "outputs": [],
   "source": []
  }
 ],
 "metadata": {
  "kernelspec": {
   "display_name": "Python 3",
   "language": "python",
   "name": "python3"
  },
  "language_info": {
   "codemirror_mode": {
    "name": "ipython",
    "version": 3
   },
   "file_extension": ".py",
   "mimetype": "text/x-python",
   "name": "python",
   "nbconvert_exporter": "python",
   "pygments_lexer": "ipython3",
   "version": "3.6.4"
  }
 },
 "nbformat": 4,
 "nbformat_minor": 2
}
