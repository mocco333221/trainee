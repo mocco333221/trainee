{
 "cells": [
  {
   "cell_type": "markdown",
   "metadata": {},
   "source": [
    "题目：画图，综合例子。　　\n",
    "\n",
    "程序分析：利用for循环控制100-999个数，每个数分解出个位，十位，百位。。\n",
    "\n",
    "程序源代码："
   ]
  },
  {
   "cell_type": "markdown",
   "metadata": {},
   "source": []
  },
  {
   "cell_type": "markdown",
   "metadata": {},
   "source": []
  },
  {
   "cell_type": "code",
   "execution_count": null,
   "metadata": {},
   "outputs": [],
   "source": [
    "#!/usr/bin/python\n",
    "# -*- coding: UTF-8 -*-\n",
    "\n",
    "if __name__  == '__main__':\n",
    "    from tkinter import *\n",
    "    canvas = Canvas(width = 300,height = 300,bg = 'green')\n",
    "    canvas.pack(expand = YES,fill = BOTH)\n",
    "    x0 = 150\n",
    "    y0 = 100\n",
    "    canvas.create_oval(x0 - 10,y0 - 10,x0 + 10,y0 + 10)\n",
    "    canvas.create_oval(x0 - 20,y0 - 20,x0 + 20,y0 + 20)\n",
    "    canvas.create_oval(x0 - 50,y0 - 50,x0 + 50,y0 + 50)\n",
    "    import math\n",
    "    B = 0.809\n",
    "    for i in range(16):\n",
    "        a = 2 * math.pi / 16 * i\n",
    "        x = math.ceil(x0 + 48 * math.cos(a))\n",
    "        y = math.ceil(y0 + 48 * math.sin(a) * B)\n",
    "        canvas.create_line(x0,y0,x,y,fill = 'red')\n",
    "    canvas.create_oval(x0 - 60,y0 - 60,x0 + 60,y0 + 60)\n",
    "    \n",
    "\n",
    "    for k in range(501):\n",
    "        for i in range(17):\n",
    "            a = (2 * math.pi / 16) * i + (2 * math.pi / 180) * k\n",
    "            x = math.ceil(x0 + 48 * math.cos(a))\n",
    "            y = math.ceil(y0 + 48 + math.sin(a) * B)\n",
    "            canvas.create_line(x0,y0,x,y,fill = 'red')\n",
    "        for j in range(51):\n",
    "            a = (2 * math.pi / 16) * i + (2* math.pi / 180) * k - 1\n",
    "            x = math.ceil(x0 + 48 * math.cos(a))\n",
    "            y = math.ceil(y0 + 48 * math.sin(a) * B)\n",
    "            canvas.create_line(x0,y0,x,y,fill = 'red')\n",
    "    mainloop()"
   ]
  },
  {
   "cell_type": "code",
   "execution_count": null,
   "metadata": {},
   "outputs": [],
   "source": []
  }
 ],
 "metadata": {
  "kernelspec": {
   "display_name": "Python 3",
   "language": "python",
   "name": "python3"
  },
  "language_info": {
   "codemirror_mode": {
    "name": "ipython",
    "version": 3
   },
   "file_extension": ".py",
   "mimetype": "text/x-python",
   "name": "python",
   "nbconvert_exporter": "python",
   "pygments_lexer": "ipython3",
   "version": "3.7.0"
  }
 },
 "nbformat": 4,
 "nbformat_minor": 2
}
