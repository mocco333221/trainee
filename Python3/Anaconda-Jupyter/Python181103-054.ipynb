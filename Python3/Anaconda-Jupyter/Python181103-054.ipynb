{
 "cells": [
  {
   "cell_type": "markdown",
   "metadata": {},
   "source": [
    "题目：取一个整数a从右端开始的4〜7位。\n",
    "\n",
    "程序分析：可以这样考虑：\n",
    "\n",
    "(1)先使a右移4位。 \n",
    "\n",
    "(2)设置一个低4位全为1,其余全为0的数。可用~(~0<<4) \n",
    "\n",
    "(3)将上面二者进行&运算。"
   ]
  },
  {
   "cell_type": "code",
   "execution_count": 2,
   "metadata": {},
   "outputs": [
    {
     "name": "stdout",
     "output_type": "stream",
     "text": [
      "input a number:\n",
      "9\n",
      "11\t0\n"
     ]
    }
   ],
   "source": [
    "#!/usr/bin/python\n",
    "# -*- coding: UTF-8 -*-\n",
    " \n",
    "if __name__ == '__main__':\n",
    "    a = int(input('input a number:\\n'))\n",
    "    b = a >> 4\n",
    "    c = ~(~0 << 4)\n",
    "    d = b & c\n",
    "    print ('%o\\t%o' %(a,d))"
   ]
  },
  {
   "cell_type": "code",
   "execution_count": null,
   "metadata": {},
   "outputs": [],
   "source": []
  }
 ],
 "metadata": {
  "kernelspec": {
   "display_name": "Python 3",
   "language": "python",
   "name": "python3"
  },
  "language_info": {
   "codemirror_mode": {
    "name": "ipython",
    "version": 3
   },
   "file_extension": ".py",
   "mimetype": "text/x-python",
   "name": "python",
   "nbconvert_exporter": "python",
   "pygments_lexer": "ipython3",
   "version": "3.7.0"
  }
 },
 "nbformat": 4,
 "nbformat_minor": 2
}
