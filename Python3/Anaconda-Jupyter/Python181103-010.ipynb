{
 "cells": [
  {
   "cell_type": "markdown",
   "metadata": {},
   "source": [
    "# Python 练习实例10\n",
    "\n",
    "## **题目**：暂停一秒输出，并格式化当前时间。\n",
    "\n",
    "## **程序分析**：无。\n",
    "\n",
    "### 程序源代码：\n",
    "```Python\n",
    "#!/usr/bin/python\n",
    "# -*- coding: UTF-8 -*-\n",
    "import time\n",
    " \n",
    "print (time.strftime('%Y-%m-%d %H:%M:%S',time.localtime(time.time())))\n",
    " \n",
    "# 暂停一秒\n",
    "time.sleep(1)\n",
    " \n",
    "print (time.strftime('%Y-%m-%d %H:%M:%S',time.localtime(time.time())))\n",
    "```\n",
    "### 以上实例输出结果为：\n",
    "\n",
    "#### 2015-10-21 17:48:40\n",
    "#### 2015-10-21 17:48:41"
   ]
  },
  {
   "cell_type": "code",
   "execution_count": null,
   "metadata": {},
   "outputs": [],
   "source": []
  }
 ],
 "metadata": {
  "kernelspec": {
   "display_name": "Python 3",
   "language": "python",
   "name": "python3"
  },
  "language_info": {
   "codemirror_mode": {
    "name": "ipython",
    "version": 3
   },
   "file_extension": ".py",
   "mimetype": "text/x-python",
   "name": "python",
   "nbconvert_exporter": "python",
   "pygments_lexer": "ipython3",
   "version": "3.7.0"
  }
 },
 "nbformat": 4,
 "nbformat_minor": 2
}
