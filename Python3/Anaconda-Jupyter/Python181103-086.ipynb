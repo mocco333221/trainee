{
 "cells": [
  {
   "cell_type": "markdown",
   "metadata": {},
   "source": [
    "# Python 练习实例86\n",
    "\n",
    "## **题目**：两个字符串连接程序。\n",
    "\n",
    "## 程序分析：无。\n",
    "```Python\n",
    "#!/usr/bin/python\n",
    "# -*- coding: UTF-8 -*-\n",
    " \n",
    "if __name__ == '__main__':\n",
    "    a = \"acegikm\"\n",
    "    b = \"bdfhjlnpq\"\n",
    " \n",
    "    # 连接字符串\n",
    "    c = a + b\n",
    "    print (c)\n",
    "```\n",
    "### 以上实例输出结果为：\n",
    "#### acegikmbdfhjlnpq"
   ]
  },
  {
   "cell_type": "code",
   "execution_count": null,
   "metadata": {},
   "outputs": [],
   "source": []
  }
 ],
 "metadata": {
  "kernelspec": {
   "display_name": "Python 3",
   "language": "python",
   "name": "python3"
  },
  "language_info": {
   "codemirror_mode": {
    "name": "ipython",
    "version": 3
   },
   "file_extension": ".py",
   "mimetype": "text/x-python",
   "name": "python",
   "nbconvert_exporter": "python",
   "pygments_lexer": "ipython3",
   "version": "3.7.0"
  }
 },
 "nbformat": 4,
 "nbformat_minor": 2
}
