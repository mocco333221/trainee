{
 "cells": [
  {
   "cell_type": "code",
   "execution_count": 2,
   "metadata": {},
   "outputs": [
    {
     "name": "stdout",
     "output_type": "stream",
     "text": [
      "请输入一个数字:\n",
      "12321\n",
      "12321 是一个回文数!\n"
     ]
    }
   ],
   "source": [
    "#!/usr/bin/python\n",
    "# -*- coding: UTF-8 -*-\n",
    " \n",
    "a = int(input(\"请输入一个数字:\\n\"))\n",
    "x = str(a)\n",
    "flag = True\n",
    " \n",
    "for i in range(len(x)//2):\n",
    "    if x[i] != x[-i - 1]:\n",
    "        flag = False\n",
    "        break\n",
    "if flag:\n",
    "    print(\"%d 是一个回文数!\" % a)\n",
    "else:\n",
    "    print(\"%d 不是一个回文数!\" % a)"
   ]
  },
  {
   "cell_type": "code",
   "execution_count": null,
   "metadata": {},
   "outputs": [],
   "source": []
  }
 ],
 "metadata": {
  "kernelspec": {
   "display_name": "Python 3",
   "language": "python",
   "name": "python3"
  },
  "language_info": {
   "codemirror_mode": {
    "name": "ipython",
    "version": 3
   },
   "file_extension": ".py",
   "mimetype": "text/x-python",
   "name": "python",
   "nbconvert_exporter": "python",
   "pygments_lexer": "ipython3",
   "version": "3.7.0"
  }
 },
 "nbformat": 4,
 "nbformat_minor": 2
}
