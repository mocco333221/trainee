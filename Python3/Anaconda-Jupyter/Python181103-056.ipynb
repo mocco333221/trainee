{
 "cells": [
  {
   "cell_type": "markdown",
   "metadata": {},
   "source": [
    "**题目：**画图，学用circle画圆形。　　　\n",
    "\n",
    "**程序分析：**无。\n",
    "\n",
    "程序源代码："
   ]
  },
  {
   "cell_type": "code",
   "execution_count": 10,
   "metadata": {},
   "outputs": [],
   "source": [
    "#!/usr/bin/python\n",
    "# -*- coding: UTF-8 -*-\n",
    " \n",
    "if __name__ == '__main__':\n",
    "    from tkinter import *\n",
    " \n",
    "    canvas = Canvas(width=800, height=600, bg='yellow')  \n",
    "    canvas.pack(expand=YES, fill=BOTH)                \n",
    "    k = 1\n",
    "    j = 1\n",
    "    for i in range(0,26):\n",
    "        canvas.create_oval(310 - k,250 - k,310 + k,250 + k, width=1)\n",
    "        k += j\n",
    "        j += 0.3\n",
    " \n",
    "    mainloop()\n",
    "    "
   ]
  },
  {
   "cell_type": "code",
   "execution_count": null,
   "metadata": {},
   "outputs": [],
   "source": []
  }
 ],
 "metadata": {
  "kernelspec": {
   "display_name": "Python 3",
   "language": "python",
   "name": "python3"
  },
  "language_info": {
   "codemirror_mode": {
    "name": "ipython",
    "version": 3
   },
   "file_extension": ".py",
   "mimetype": "text/x-python",
   "name": "python",
   "nbconvert_exporter": "python",
   "pygments_lexer": "ipython3",
   "version": "3.6.4"
  }
 },
 "nbformat": 4,
 "nbformat_minor": 2
}
