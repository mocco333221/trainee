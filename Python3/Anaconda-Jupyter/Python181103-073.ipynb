{
 "cells": [
  {
   "cell_type": "markdown",
   "metadata": {},
   "source": [
    "### Python 练习实例73\n",
    "**题目：**反向输出一个链表。\n",
    "\n",
    "**程序分析：**无。\n",
    "\n",
    "## 实例(Python 3.0+)\n",
    "---------------"
   ]
  },
  {
   "cell_type": "code",
   "execution_count": 17,
   "metadata": {},
   "outputs": [
    {
     "name": "stdout",
     "output_type": "stream",
     "text": [
      "please input a number:\n",
      "5\n",
      "please input a number:\n",
      "3\n",
      "please input a number:\n",
      "8\n",
      "please input a number:\n",
      "6\n",
      "please input a number:\n",
      "2\n",
      "[5, 3, 8, 6, 2]\n",
      "[2, 6, 8, 3, 5]\n"
     ]
    }
   ],
   "source": [
    "#!/usr/bin/python\n",
    "# -*- coding: UTF-8 -*-  \n",
    "if  __name__ == '__main__': \n",
    "    ptr = []\n",
    "    for i in range(5):\n",
    "        num = int(input('please input a number:\\n'))  \n",
    "        ptr.append(num)  \n",
    "    print(ptr)\n",
    "    ptr.reverse()  \n",
    "    print(ptr)"
   ]
  },
  {
   "cell_type": "code",
   "execution_count": null,
   "metadata": {},
   "outputs": [],
   "source": []
  }
 ],
 "metadata": {
  "kernelspec": {
   "display_name": "Python 3",
   "language": "python",
   "name": "python3"
  },
  "language_info": {
   "codemirror_mode": {
    "name": "ipython",
    "version": 3
   },
   "file_extension": ".py",
   "mimetype": "text/x-python",
   "name": "python",
   "nbconvert_exporter": "python",
   "pygments_lexer": "ipython3",
   "version": "3.7.0"
  }
 },
 "nbformat": 4,
 "nbformat_minor": 2
}
