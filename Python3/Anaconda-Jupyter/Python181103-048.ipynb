{
 "cells": [
  {
   "cell_type": "markdown",
   "metadata": {},
   "source": [
    "# Python 练习实例48\n",
    "\n",
    "## **题目**：数字比较。\n",
    "\n",
    "## **程序分析**：无\n",
    "\n",
    "### 程序源代码：\n",
    "```Python\n",
    "#!/usr/bin/python\n",
    "# -*- coding: UTF-8 -*-\n",
    " \n",
    "if __name__ == '__main__':\n",
    "    i = 10\n",
    "    j = 20\n",
    "    if i > j:\n",
    "        print ('%d 大于 %d' % (i,j))\n",
    "    elif i == j:\n",
    "        print ('%d 等于 %d' % (i,j))\n",
    "    elif i < j:\n",
    "        print ('%d 小于 %d' % (i,j))\n",
    "    else:\n",
    "        print ('未知')\n",
    "```\n",
    "### 以上实例输出结果为：\n",
    "\n",
    "#### 10 小于 20"
   ]
  },
  {
   "cell_type": "markdown",
   "metadata": {},
   "source": []
  }
 ],
 "metadata": {
  "kernelspec": {
   "display_name": "Python 3",
   "language": "python",
   "name": "python3"
  },
  "language_info": {
   "codemirror_mode": {
    "name": "ipython",
    "version": 3
   },
   "file_extension": ".py",
   "mimetype": "text/x-python",
   "name": "python",
   "nbconvert_exporter": "python",
   "pygments_lexer": "ipython3",
   "version": "3.7.0"
  }
 },
 "nbformat": 4,
 "nbformat_minor": 2
}
